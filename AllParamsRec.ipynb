{
  "nbformat": 4,
  "nbformat_minor": 0,
  "metadata": {
    "colab": {
      "provenance": [],
      "authorship_tag": "ABX9TyMujgNw4nfo70W2wCgWdV/l",
      "include_colab_link": true
    },
    "kernelspec": {
      "name": "python3",
      "display_name": "Python 3"
    },
    "language_info": {
      "name": "python"
    }
  },
  "cells": [
    {
      "cell_type": "markdown",
      "metadata": {
        "id": "view-in-github",
        "colab_type": "text"
      },
      "source": [
        "<a href=\"https://colab.research.google.com/github/RohanSingh7761/Recommendation/blob/main/AllParamsRec.ipynb\" target=\"_parent\"><img src=\"https://colab.research.google.com/assets/colab-badge.svg\" alt=\"Open In Colab\"/></a>"
      ]
    },
    {
      "cell_type": "code",
      "source": [
        "import pandas as pd\n",
        "import numpy as np\n",
        "from sklearn.feature_extraction.text import TfidfVectorizer\n",
        "from sklearn.neighbors import NearestNeighbors"
      ],
      "metadata": {
        "id": "NbrFiUZ1h3sl"
      },
      "execution_count": 3,
      "outputs": []
    },
    {
      "cell_type": "code",
      "source": [
        "users_df = pd.read_csv('users_100k_with_relationships.csv')\n",
        "posts_df = pd.read_csv('posts_100k_with_relationships.csv')\n",
        "interactions_df = pd.read_csv('interactions_100k_with_relationships.csv')"
      ],
      "metadata": {
        "id": "5n9hsuVd533U"
      },
      "execution_count": 5,
      "outputs": []
    },
    {
      "cell_type": "code",
      "source": [
        "# Function to extract tags from posts\n",
        "def extract_tags(post):\n",
        "    return post['Tags/Keywords'].replace('#', '').split(', ')\n",
        "\n",
        "# Apply function to posts\n",
        "posts_df['Tags'] = posts_df.apply(extract_tags, axis=1)\n",
        "posts_df['Tags_str'] = posts_df['Tags'].apply(lambda tags: ' '.join(tags))"
      ],
      "metadata": {
        "id": "0_iqAn646Jdj"
      },
      "execution_count": 6,
      "outputs": []
    },
    {
      "cell_type": "code",
      "source": [
        "# Initialize TF-IDF Vectorizer\n",
        "tfidf_vectorizer = TfidfVectorizer(stop_words='english')\n",
        "\n",
        "# Fit and transform the TF-IDF Vectorizer on posts tags\n",
        "tfidf_matrix = tfidf_vectorizer.fit_transform(posts_df['Tags_str'])"
      ],
      "metadata": {
        "id": "d6F1Nba16Nhb"
      },
      "execution_count": 7,
      "outputs": []
    },
    {
      "cell_type": "code",
      "source": [
        "# Compute k-nearest neighbors\n",
        "knn = NearestNeighbors(metric='cosine', algorithm='brute')\n",
        "knn.fit(tfidf_matrix)"
      ],
      "metadata": {
        "colab": {
          "base_uri": "https://localhost:8080/",
          "height": 74
        },
        "id": "GSgSWzRn6QJn",
        "outputId": "d409a3c9-302e-451a-de7c-77eaef50a8ee"
      },
      "execution_count": 8,
      "outputs": [
        {
          "output_type": "execute_result",
          "data": {
            "text/plain": [
              "NearestNeighbors(algorithm='brute', metric='cosine')"
            ],
            "text/html": [
              "<style>#sk-container-id-1 {color: black;background-color: white;}#sk-container-id-1 pre{padding: 0;}#sk-container-id-1 div.sk-toggleable {background-color: white;}#sk-container-id-1 label.sk-toggleable__label {cursor: pointer;display: block;width: 100%;margin-bottom: 0;padding: 0.3em;box-sizing: border-box;text-align: center;}#sk-container-id-1 label.sk-toggleable__label-arrow:before {content: \"▸\";float: left;margin-right: 0.25em;color: #696969;}#sk-container-id-1 label.sk-toggleable__label-arrow:hover:before {color: black;}#sk-container-id-1 div.sk-estimator:hover label.sk-toggleable__label-arrow:before {color: black;}#sk-container-id-1 div.sk-toggleable__content {max-height: 0;max-width: 0;overflow: hidden;text-align: left;background-color: #f0f8ff;}#sk-container-id-1 div.sk-toggleable__content pre {margin: 0.2em;color: black;border-radius: 0.25em;background-color: #f0f8ff;}#sk-container-id-1 input.sk-toggleable__control:checked~div.sk-toggleable__content {max-height: 200px;max-width: 100%;overflow: auto;}#sk-container-id-1 input.sk-toggleable__control:checked~label.sk-toggleable__label-arrow:before {content: \"▾\";}#sk-container-id-1 div.sk-estimator input.sk-toggleable__control:checked~label.sk-toggleable__label {background-color: #d4ebff;}#sk-container-id-1 div.sk-label input.sk-toggleable__control:checked~label.sk-toggleable__label {background-color: #d4ebff;}#sk-container-id-1 input.sk-hidden--visually {border: 0;clip: rect(1px 1px 1px 1px);clip: rect(1px, 1px, 1px, 1px);height: 1px;margin: -1px;overflow: hidden;padding: 0;position: absolute;width: 1px;}#sk-container-id-1 div.sk-estimator {font-family: monospace;background-color: #f0f8ff;border: 1px dotted black;border-radius: 0.25em;box-sizing: border-box;margin-bottom: 0.5em;}#sk-container-id-1 div.sk-estimator:hover {background-color: #d4ebff;}#sk-container-id-1 div.sk-parallel-item::after {content: \"\";width: 100%;border-bottom: 1px solid gray;flex-grow: 1;}#sk-container-id-1 div.sk-label:hover label.sk-toggleable__label {background-color: #d4ebff;}#sk-container-id-1 div.sk-serial::before {content: \"\";position: absolute;border-left: 1px solid gray;box-sizing: border-box;top: 0;bottom: 0;left: 50%;z-index: 0;}#sk-container-id-1 div.sk-serial {display: flex;flex-direction: column;align-items: center;background-color: white;padding-right: 0.2em;padding-left: 0.2em;position: relative;}#sk-container-id-1 div.sk-item {position: relative;z-index: 1;}#sk-container-id-1 div.sk-parallel {display: flex;align-items: stretch;justify-content: center;background-color: white;position: relative;}#sk-container-id-1 div.sk-item::before, #sk-container-id-1 div.sk-parallel-item::before {content: \"\";position: absolute;border-left: 1px solid gray;box-sizing: border-box;top: 0;bottom: 0;left: 50%;z-index: -1;}#sk-container-id-1 div.sk-parallel-item {display: flex;flex-direction: column;z-index: 1;position: relative;background-color: white;}#sk-container-id-1 div.sk-parallel-item:first-child::after {align-self: flex-end;width: 50%;}#sk-container-id-1 div.sk-parallel-item:last-child::after {align-self: flex-start;width: 50%;}#sk-container-id-1 div.sk-parallel-item:only-child::after {width: 0;}#sk-container-id-1 div.sk-dashed-wrapped {border: 1px dashed gray;margin: 0 0.4em 0.5em 0.4em;box-sizing: border-box;padding-bottom: 0.4em;background-color: white;}#sk-container-id-1 div.sk-label label {font-family: monospace;font-weight: bold;display: inline-block;line-height: 1.2em;}#sk-container-id-1 div.sk-label-container {text-align: center;}#sk-container-id-1 div.sk-container {/* jupyter's `normalize.less` sets `[hidden] { display: none; }` but bootstrap.min.css set `[hidden] { display: none !important; }` so we also need the `!important` here to be able to override the default hidden behavior on the sphinx rendered scikit-learn.org. See: https://github.com/scikit-learn/scikit-learn/issues/21755 */display: inline-block !important;position: relative;}#sk-container-id-1 div.sk-text-repr-fallback {display: none;}</style><div id=\"sk-container-id-1\" class=\"sk-top-container\"><div class=\"sk-text-repr-fallback\"><pre>NearestNeighbors(algorithm=&#x27;brute&#x27;, metric=&#x27;cosine&#x27;)</pre><b>In a Jupyter environment, please rerun this cell to show the HTML representation or trust the notebook. <br />On GitHub, the HTML representation is unable to render, please try loading this page with nbviewer.org.</b></div><div class=\"sk-container\" hidden><div class=\"sk-item\"><div class=\"sk-estimator sk-toggleable\"><input class=\"sk-toggleable__control sk-hidden--visually\" id=\"sk-estimator-id-1\" type=\"checkbox\" checked><label for=\"sk-estimator-id-1\" class=\"sk-toggleable__label sk-toggleable__label-arrow\">NearestNeighbors</label><div class=\"sk-toggleable__content\"><pre>NearestNeighbors(algorithm=&#x27;brute&#x27;, metric=&#x27;cosine&#x27;)</pre></div></div></div></div></div>"
            ]
          },
          "metadata": {},
          "execution_count": 8
        }
      ]
    },
    {
      "cell_type": "code",
      "source": [
        "# Function to get user's friends\n",
        "def get_user_friends(user_id):\n",
        "    # Assuming interactions_df contains user relationships\n",
        "    friends = interactions_df[interactions_df['User ID'] == user_id]['User ID'].unique()\n",
        "    return friends"
      ],
      "metadata": {
        "id": "bBWYLOX66ScB"
      },
      "execution_count": 14,
      "outputs": []
    },
    {
      "cell_type": "code",
      "source": [
        " #Function to get posts liked by user's friends\n",
        "def get_friends_liked_posts(user_id):\n",
        "    friends = get_user_friends(user_id)\n",
        "    friends_liked_posts = interactions_df[(interactions_df['User ID'].isin(friends)) & (interactions_df['Interaction Type'] == 'Like')]['Post ID']\n",
        "    return friends_liked_posts.unique()"
      ],
      "metadata": {
        "id": "7wYqccgk6T04"
      },
      "execution_count": 15,
      "outputs": []
    },
    {
      "cell_type": "code",
      "source": [
        "# Function to recommend posts based on user's interactions\n",
        "def recommend_posts(user_id, num_recommended_posts=5):\n",
        "    # Get user's liked posts\n",
        "    liked_posts = interactions_df[(interactions_df['User ID'] == user_id) & (interactions_df['Interaction Type'] == 'Like')]['Post ID']\n",
        "\n",
        "    # Exclude already liked posts\n",
        "    candidate_posts = posts_df[~posts_df['Post ID'].isin(liked_posts)]\n",
        "\n",
        "    # Recommend based on k-nearest neighbors with liked posts\n",
        "    recommended_posts = []\n",
        "    for post_id in liked_posts:\n",
        "        post_idx = posts_df.index[posts_df['Post ID'] == post_id].tolist()[0]\n",
        "        distances, indices = knn.kneighbors(tfidf_matrix[post_idx], n_neighbors=num_recommended_posts+1)\n",
        "        similar_posts = [(distances[0][i], posts_df['Post ID'].iloc[indices[0][i]]) for i in range(1, num_recommended_posts+1)]\n",
        "        recommended_posts.extend(similar_posts)\n",
        "\n",
        "    # Sort and get top recommended posts\n",
        "    recommended_posts = sorted(recommended_posts, key=lambda x: x[0])\n",
        "\n",
        "    return [post[1] for post in recommended_posts[:num_recommended_posts]]"
      ],
      "metadata": {
        "id": "D3U8Z5Fn6Vb7"
      },
      "execution_count": 16,
      "outputs": []
    },
    {
      "cell_type": "code",
      "source": [
        "# Function to blend posts\n",
        "def blend_posts(user_id, num_posts=10, friends_ratio=0.2, new_ratio=0.3, interactions_ratio=0.5):\n",
        "    num_friends_posts = int(num_posts * friends_ratio)\n",
        "    num_new_posts = int(num_posts * new_ratio)\n",
        "    num_interactions_posts = num_posts - num_friends_posts - num_new_posts\n",
        "\n",
        "    # Get posts liked by friends\n",
        "    friends_liked_posts = get_friends_liked_posts(user_id)\n",
        "    friends_posts = posts_df[posts_df['Post ID'].isin(friends_liked_posts)]\n",
        "    if len(friends_posts) < num_friends_posts:\n",
        "        num_friends_posts = len(friends_posts)\n",
        "    friends_posts = friends_posts.sample(num_friends_posts)['Post ID'].tolist()\n",
        "\n",
        "    # Get random new posts\n",
        "    new_posts = posts_df[~posts_df['Post ID'].isin(friends_liked_posts)]\n",
        "    if len(new_posts) < num_new_posts:\n",
        "        num_new_posts = len(new_posts)\n",
        "    new_posts = new_posts.sample(num_new_posts)['Post ID'].tolist()\n",
        "\n",
        "    # Get recommended posts based on user interactions\n",
        "    interaction_posts = recommend_posts(user_id, num_interactions_posts)\n",
        "\n",
        "    # Blend posts\n",
        "    blended_posts = friends_posts + new_posts + interaction_posts\n",
        "    np.random.shuffle(blended_posts)\n",
        "\n",
        "    return blended_posts"
      ],
      "metadata": {
        "id": "hCPMYhHv6Yps"
      },
      "execution_count": 17,
      "outputs": []
    },
    {
      "cell_type": "code",
      "source": [
        "user_id = 100\n",
        "blended_posts = blend_posts(user_id, num_posts=20)\n",
        "print(f\"Blended posts for User ID {user_id}: {blended_posts}\")"
      ],
      "metadata": {
        "colab": {
          "base_uri": "https://localhost:8080/"
        },
        "id": "VJjVE99b6cuq",
        "outputId": "b818d6d3-9bf6-4444-8c7c-decf7d313189"
      },
      "execution_count": 20,
      "outputs": [
        {
          "output_type": "stream",
          "name": "stdout",
          "text": [
            "Blended posts for User ID 100: [69156, 34172, 67406, 74945, 84435, 16294, 26829, 85587, 35438, 86235, 40472, 91416, 56685, 10447, 77425, 82463, 61789]\n"
          ]
        }
      ]
    }
  ]
}